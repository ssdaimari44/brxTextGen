{
 "cells": [
  {
   "metadata": {
    "ExecuteTime": {
     "end_time": "2025-08-29T11:10:44.740886Z",
     "start_time": "2025-08-29T11:08:48.417694Z"
    }
   },
   "cell_type": "code",
   "source": [
    "from datasets import load_dataset\n",
    "ds = load_dataset(\"GEM/web_nlg\", \"en\", trust_remote_code=True)"
   ],
   "id": "1fcc47afa779ae01",
   "outputs": [
    {
     "data": {
      "text/plain": [
       "Downloading data:   0%|          | 0.00/10.1M [00:00<?, ?B/s]"
      ],
      "application/vnd.jupyter.widget-view+json": {
       "version_major": 2,
       "version_minor": 0,
       "model_id": "58479754902a44658f74bc6e14ea586c"
      }
     },
     "metadata": {},
     "output_type": "display_data"
    },
    {
     "data": {
      "text/plain": [
       "Downloading data:   0%|          | 0.00/1.27M [00:00<?, ?B/s]"
      ],
      "application/vnd.jupyter.widget-view+json": {
       "version_major": 2,
       "version_minor": 0,
       "model_id": "5a17d62e3fae4fed835580b04a32a76c"
      }
     },
     "metadata": {},
     "output_type": "display_data"
    },
    {
     "data": {
      "text/plain": [
       "Downloading data:   0%|          | 0.00/1.54M [00:00<?, ?B/s]"
      ],
      "application/vnd.jupyter.widget-view+json": {
       "version_major": 2,
       "version_minor": 0,
       "model_id": "d8ccef5a721d45c3add714c5ea356b40"
      }
     },
     "metadata": {},
     "output_type": "display_data"
    },
    {
     "data": {
      "text/plain": [
       "Downloading data:   0%|          | 0.00/236k [00:00<?, ?B/s]"
      ],
      "application/vnd.jupyter.widget-view+json": {
       "version_major": 2,
       "version_minor": 0,
       "model_id": "6aacc6bf12834fddaa919697040119f5"
      }
     },
     "metadata": {},
     "output_type": "display_data"
    },
    {
     "data": {
      "text/plain": [
       "Generating train split:   0%|          | 0/35426 [00:00<?, ? examples/s]"
      ],
      "application/vnd.jupyter.widget-view+json": {
       "version_major": 2,
       "version_minor": 0,
       "model_id": "e47b6a7282444e1e9eb7d6bfd4fe15b8"
      }
     },
     "metadata": {},
     "output_type": "display_data"
    },
    {
     "data": {
      "text/plain": [
       "Generating validation split:   0%|          | 0/1667 [00:00<?, ? examples/s]"
      ],
      "application/vnd.jupyter.widget-view+json": {
       "version_major": 2,
       "version_minor": 0,
       "model_id": "c7b8b13222084ad38b84e58382d80cf5"
      }
     },
     "metadata": {},
     "output_type": "display_data"
    },
    {
     "data": {
      "text/plain": [
       "Generating test split:   0%|          | 0/1779 [00:00<?, ? examples/s]"
      ],
      "application/vnd.jupyter.widget-view+json": {
       "version_major": 2,
       "version_minor": 0,
       "model_id": "d9dcdc0735b248a6826e6b6802d77dde"
      }
     },
     "metadata": {},
     "output_type": "display_data"
    },
    {
     "data": {
      "text/plain": [
       "Generating challenge_train_sample split:   0%|          | 0/502 [00:00<?, ? examples/s]"
      ],
      "application/vnd.jupyter.widget-view+json": {
       "version_major": 2,
       "version_minor": 0,
       "model_id": "e6efb73296c7455f923707a393f05b50"
      }
     },
     "metadata": {},
     "output_type": "display_data"
    },
    {
     "data": {
      "text/plain": [
       "Generating challenge_validation_sample split:   0%|          | 0/499 [00:00<?, ? examples/s]"
      ],
      "application/vnd.jupyter.widget-view+json": {
       "version_major": 2,
       "version_minor": 0,
       "model_id": "055b28b6be654a0d9fb75718cca2ed2d"
      }
     },
     "metadata": {},
     "output_type": "display_data"
    },
    {
     "data": {
      "text/plain": [
       "Generating challenge_test_scramble split:   0%|          | 0/500 [00:00<?, ? examples/s]"
      ],
      "application/vnd.jupyter.widget-view+json": {
       "version_major": 2,
       "version_minor": 0,
       "model_id": "7ba6e8c6d8d14935a06d35b7041607ef"
      }
     },
     "metadata": {},
     "output_type": "display_data"
    },
    {
     "data": {
      "text/plain": [
       "Generating challenge_test_numbers split:   0%|          | 0/500 [00:00<?, ? examples/s]"
      ],
      "application/vnd.jupyter.widget-view+json": {
       "version_major": 2,
       "version_minor": 0,
       "model_id": "7c90ad6953d041e18b28ad64f476e17e"
      }
     },
     "metadata": {},
     "output_type": "display_data"
    }
   ],
   "execution_count": 1
  },
  {
   "metadata": {
    "ExecuteTime": {
     "end_time": "2025-08-29T11:11:19.255894Z",
     "start_time": "2025-08-29T11:11:18.128507Z"
    }
   },
   "cell_type": "code",
   "source": [
    "import networkx as nx\n",
    "import matplotlib.pyplot as plt"
   ],
   "id": "29f6f013773225c0",
   "outputs": [],
   "execution_count": 2
  },
  {
   "metadata": {
    "ExecuteTime": {
     "end_time": "2025-08-29T11:11:30.662582Z",
     "start_time": "2025-08-29T11:11:30.631333Z"
    }
   },
   "cell_type": "code",
   "source": [
    "# Example\n",
    "example = ds[\"train\"][10][\"input\"]\n",
    "example"
   ],
   "id": "3e00d6faebf81e1b",
   "outputs": [
    {
     "data": {
      "text/plain": [
       "['Aarhus_Airport | operatingOrganisation | Aktieselskab']"
      ]
     },
     "execution_count": 3,
     "metadata": {},
     "output_type": "execute_result"
    }
   ],
   "execution_count": 3
  },
  {
   "metadata": {
    "ExecuteTime": {
     "end_time": "2025-08-29T11:11:59.583368Z",
     "start_time": "2025-08-29T11:11:59.552120Z"
    }
   },
   "cell_type": "code",
   "source": [
    "import pandas as pd\n",
    "\n",
    "def show_example(example):\n",
    "    print(\"Reference:\", example[\"target\"])\n",
    "    print(\"Category:\", example[\"category\"])\n",
    "    print(\"WebNLG ID:\", example[\"webnlg_id\"])\n",
    "\n",
    "    triples = example[\"input\"]\n",
    "\n",
    "    # handle both list-of-strings and list-of-lists\n",
    "    if isinstance(triples[0], str):\n",
    "        triples = [t.split(\" | \") for t in triples]\n",
    "\n",
    "    df = pd.DataFrame(triples, columns=[\"subject\", \"predicate\", \"object\"])\n",
    "    display(df)\n",
    "\n",
    "# Try it\n",
    "show_example(ds[\"train\"][59])\n"
   ],
   "id": "d61241276ff86eda",
   "outputs": [
    {
     "name": "stdout",
     "output_type": "stream",
     "text": [
      "Reference: The runway name of Abilene Regional Airport is 17R/35L.\n",
      "Category: Airport\n",
      "WebNLG ID: train/Airport/1/Id25\n"
     ]
    },
    {
     "data": {
      "text/plain": [
       "                    subject   predicate     object\n",
       "0  Abilene_Regional_Airport  runwayName  \"17R/35L\""
      ],
      "text/html": [
       "<div>\n",
       "<style scoped>\n",
       "    .dataframe tbody tr th:only-of-type {\n",
       "        vertical-align: middle;\n",
       "    }\n",
       "\n",
       "    .dataframe tbody tr th {\n",
       "        vertical-align: top;\n",
       "    }\n",
       "\n",
       "    .dataframe thead th {\n",
       "        text-align: right;\n",
       "    }\n",
       "</style>\n",
       "<table border=\"1\" class=\"dataframe\">\n",
       "  <thead>\n",
       "    <tr style=\"text-align: right;\">\n",
       "      <th></th>\n",
       "      <th>subject</th>\n",
       "      <th>predicate</th>\n",
       "      <th>object</th>\n",
       "    </tr>\n",
       "  </thead>\n",
       "  <tbody>\n",
       "    <tr>\n",
       "      <th>0</th>\n",
       "      <td>Abilene_Regional_Airport</td>\n",
       "      <td>runwayName</td>\n",
       "      <td>\"17R/35L\"</td>\n",
       "    </tr>\n",
       "  </tbody>\n",
       "</table>\n",
       "</div>"
      ]
     },
     "metadata": {},
     "output_type": "display_data"
    }
   ],
   "execution_count": 4
  },
  {
   "metadata": {
    "ExecuteTime": {
     "end_time": "2025-08-29T11:12:46.209339Z",
     "start_time": "2025-08-29T11:12:46.030441Z"
    }
   },
   "cell_type": "code",
   "source": [
    "# Parse triples\n",
    "edges = [tuple(t.split(\" | \")) for t in example]\n",
    "# Build graph\n",
    "G = nx.DiGraph()\n",
    "for s, r, o in edges:\n",
    "    G.add_edge(s, o, label=r)\n",
    "\n",
    "# Draw\n",
    "pos = nx.spring_layout(G, seed=42)\n",
    "plt.figure(figsize=(6,4))\n",
    "nx.draw(G, pos, with_labels=True, node_size=2000, node_color=\"lightblue\", font_size=10, font_weight=\"bold\", arrows=True)\n",
    "nx.draw_networkx_edge_labels(G, pos, edge_labels={(u,v):d[\"label\"] for u,v,d in G.edges(data=True)}, font_color=\"red\")\n",
    "plt.show()"
   ],
   "id": "d4cb9ea112eff6cb",
   "outputs": [
    {
     "data": {
      "text/plain": [
       "<Figure size 600x400 with 1 Axes>"
      ],
      "image/png": "[encoded data removed]"
     },
     "metadata": {},
     "output_type": "display_data"
    }
   ],
   "execution_count": 6
  },
  {
   "metadata": {
    "ExecuteTime": {
     "end_time": "2025-08-29T11:14:10.429732Z",
     "start_time": "2025-08-29T11:14:10.370358Z"
    }
   },
   "cell_type": "code",
   "source": [
    "from pyvis.network import Network\n",
    "\n",
    "# Set larger canvas size\n",
    "net = Network(notebook=True, directed=True, height=\"850px\", width=\"100%\")\n",
    "\n",
    "for u, v, d in G.edges(data=True):\n",
    "    net.add_node(u, label=str(u))\n",
    "    net.add_node(v, label=str(v))\n",
    "    net.add_edge(u, v, label=d[\"label\"])\n",
    "\n",
    "net.show(\"knowledge_graph.html\")"
   ],
   "id": "abe9eee0c2bc2bfe",
   "outputs": [
    {
     "name": "stdout",
     "output_type": "stream",
     "text": [
      "Warning: When  cdn_resources is 'local' jupyter notebook has issues displaying graphics on chrome/safari. Use cdn_resources='in_line' or cdn_resources='remote' if you have issues viewing graphics in a notebook.\n",
      "knowledge_graph.html\n"
     ]
    },
    {
     "data": {
      "text/plain": [
       "<IPython.lib.display.IFrame at 0x298f6de68e0>"
      ],
      "text/html": [
       "\n",
       "        <iframe\n",
       "            width=\"100%\"\n",
       "            height=\"850px\"\n",
       "            src=\"knowledge_graph.html\"\n",
       "            frameborder=\"0\"\n",
       "            allowfullscreen\n",
       "            \n",
       "        ></iframe>\n",
       "        "
      ]
     },
     "execution_count": 9,
     "metadata": {},
     "output_type": "execute_result"
    }
   ],
   "execution_count": 9
  },
  {
   "metadata": {},
   "cell_type": "code",
   "outputs": [],
   "execution_count": null,
   "source": "",
   "id": "d802b4442c859d3e"
  }
 ],
 "metadata": {},
 "nbformat": 4,
 "nbformat_minor": 5
}
